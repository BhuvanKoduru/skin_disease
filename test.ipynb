{
 "cells": [
  {
   "cell_type": "code",
   "execution_count": 1,
   "metadata": {
    "tags": []
   },
   "outputs": [],
   "source": [
    "import tensorflow as tf\n",
    "import os"
   ]
  },
  {
   "cell_type": "markdown",
   "metadata": {},
   "source": []
  },
  {
   "cell_type": "code",
   "execution_count": 2,
   "metadata": {
    "tags": []
   },
   "outputs": [],
   "source": [
    "import cv2\n",
    "import imghdr"
   ]
  },
  {
   "cell_type": "code",
   "execution_count": 3,
   "metadata": {},
   "outputs": [],
   "source": [
    "# data_dir = 'data' \n",
    "data_dir = 'test' "
   ]
  },
  {
   "cell_type": "code",
   "execution_count": 4,
   "metadata": {},
   "outputs": [
    {
     "name": "stdout",
     "output_type": "stream",
     "text": [
      "Found 952 files belonging to 5 classes.\n"
     ]
    }
   ],
   "source": [
    "data = tf.keras.utils.image_dataset_from_directory(data_dir, image_size=(64,64))"
   ]
  },
  {
   "cell_type": "code",
   "execution_count": 5,
   "metadata": {},
   "outputs": [],
   "source": [
    "data_iterator = data.as_numpy_iterator()"
   ]
  },
  {
   "cell_type": "code",
   "execution_count": 6,
   "metadata": {},
   "outputs": [
    {
     "name": "stderr",
     "output_type": "stream",
     "text": [
      "2023-04-06 18:06:10.641316: W tensorflow/tsl/platform/profile_utils/cpu_utils.cc:128] Failed to get CPU frequency: 0 Hz\n"
     ]
    }
   ],
   "source": [
    "batch = data_iterator.next()"
   ]
  },
  {
   "cell_type": "code",
   "execution_count": 7,
   "metadata": {},
   "outputs": [
    {
     "name": "stdout",
     "output_type": "stream",
     "text": [
      "WARNING:tensorflow:From /Users/abhilashhathwar/miniforge3/lib/python3.10/site-packages/tensorflow/python/autograph/pyct/static_analysis/liveness.py:83: Analyzer.lamba_check (from tensorflow.python.autograph.pyct.static_analysis.liveness) is deprecated and will be removed after 2023-09-23.\n",
      "Instructions for updating:\n",
      "Lambda fuctions will be no more assumed to be used in the statement where they are used, or at least in the same block. https://github.com/tensorflow/tensorflow/issues/56089\n"
     ]
    }
   ],
   "source": [
    "data = data.map(lambda x,y: (x/255, y))"
   ]
  },
  {
   "cell_type": "code",
   "execution_count": 8,
   "metadata": {},
   "outputs": [],
   "source": [
    "train_size = int(len(data)*.7)\n",
    "val_size = int(len(data)*.2)\n",
    "test_size = int(len(data)*.1)"
   ]
  },
  {
   "cell_type": "code",
   "execution_count": 9,
   "metadata": {},
   "outputs": [],
   "source": [
    "train = data.take(train_size)\n",
    "val = data.skip(train_size).take(val_size)\n",
    "test = data.skip(train_size+val_size).take(test_size)"
   ]
  },
  {
   "cell_type": "code",
   "execution_count": 10,
   "metadata": {},
   "outputs": [],
   "source": [
    "from tensorflow.keras.models import Sequential\n",
    "from tensorflow.keras.layers import Conv2D, MaxPooling2D, Dense, Flatten, Dropout"
   ]
  },
  {
   "cell_type": "code",
   "execution_count": 11,
   "metadata": {},
   "outputs": [],
   "source": [
    "model2 = tf.keras.models.Sequential([\n",
    "    tf.keras.layers.Conv2D(128, (3, 3), activation=\"relu\", input_shape=(64, 64, 3), kernel_initializer='he_uniform'),\n",
    "    tf.keras.layers.MaxPooling2D(pool_size=(2, 2)),\n",
    "    tf.keras.layers.Conv2D(256, (3, 3), activation=\"relu\",kernel_initializer='he_uniform'),\n",
    "    tf.keras.layers.MaxPooling2D(pool_size=(2, 2)),\n",
    "    tf.keras.layers.Conv2D(512, (3, 3), activation=\"relu\",kernel_initializer='he_uniform'),\n",
    "    tf.keras.layers.Flatten(),\n",
    "    tf.keras.layers.Dense(100, activation=\"relu\",kernel_initializer='he_uniform'),\n",
    "    tf.keras.layers.Dropout(0.5),\n",
    "    tf.keras.layers.Dense(23, activation=\"softmax\", kernel_initializer='glorot_uniform')\n",
    "])"
   ]
  },
  {
   "cell_type": "code",
   "execution_count": 12,
   "metadata": {},
   "outputs": [],
   "source": [
    "model2.compile('adam', loss=tf.losses.SparseCategoricalCrossentropy(), metrics=['accuracy'])"
   ]
  },
  {
   "cell_type": "code",
   "execution_count": 13,
   "metadata": {},
   "outputs": [
    {
     "name": "stdout",
     "output_type": "stream",
     "text": [
      "Model: \"sequential\"\n",
      "_________________________________________________________________\n",
      " Layer (type)                Output Shape              Param #   \n",
      "=================================================================\n",
      " conv2d (Conv2D)             (None, 62, 62, 128)       3584      \n",
      "                                                                 \n",
      " max_pooling2d (MaxPooling2D  (None, 31, 31, 128)      0         \n",
      " )                                                               \n",
      "                                                                 \n",
      " conv2d_1 (Conv2D)           (None, 29, 29, 256)       295168    \n",
      "                                                                 \n",
      " max_pooling2d_1 (MaxPooling  (None, 14, 14, 256)      0         \n",
      " 2D)                                                             \n",
      "                                                                 \n",
      " conv2d_2 (Conv2D)           (None, 12, 12, 512)       1180160   \n",
      "                                                                 \n",
      " flatten (Flatten)           (None, 73728)             0         \n",
      "                                                                 \n",
      " dense (Dense)               (None, 100)               7372900   \n",
      "                                                                 \n",
      " dropout (Dropout)           (None, 100)               0         \n",
      "                                                                 \n",
      " dense_1 (Dense)             (None, 23)                2323      \n",
      "                                                                 \n",
      "=================================================================\n",
      "Total params: 8,854,135\n",
      "Trainable params: 8,854,135\n",
      "Non-trainable params: 0\n",
      "_________________________________________________________________\n"
     ]
    }
   ],
   "source": [
    "model2.summary()"
   ]
  },
  {
   "cell_type": "code",
   "execution_count": 14,
   "metadata": {},
   "outputs": [],
   "source": [
    "logdir='logs'\n",
    "tensorboard_callback = tf.keras.callbacks.TensorBoard(log_dir=logdir)"
   ]
  },
  {
   "cell_type": "code",
   "execution_count": 16,
   "metadata": {},
   "outputs": [
    {
     "name": "stdout",
     "output_type": "stream",
     "text": [
      "Epoch 1/20\n",
      "21/21 [==============================] - 10s 449ms/step - loss: 1.7304 - accuracy: 0.2932 - val_loss: 1.4398 - val_accuracy: 0.4323\n",
      "Epoch 2/20\n",
      "21/21 [==============================] - 10s 464ms/step - loss: 1.6591 - accuracy: 0.3289 - val_loss: 1.4624 - val_accuracy: 0.3854\n",
      "Epoch 3/20\n",
      "21/21 [==============================] - 10s 456ms/step - loss: 1.6213 - accuracy: 0.3497 - val_loss: 1.3257 - val_accuracy: 0.4375\n",
      "Epoch 4/20\n",
      "21/21 [==============================] - 11s 492ms/step - loss: 1.5976 - accuracy: 0.3542 - val_loss: 1.4096 - val_accuracy: 0.4271\n",
      "Epoch 5/20\n",
      "21/21 [==============================] - 12s 551ms/step - loss: 1.5121 - accuracy: 0.3705 - val_loss: 1.2429 - val_accuracy: 0.4479\n",
      "Epoch 6/20\n",
      "21/21 [==============================] - 11s 494ms/step - loss: 1.4439 - accuracy: 0.4122 - val_loss: 1.3415 - val_accuracy: 0.4635\n",
      "Epoch 7/20\n",
      "21/21 [==============================] - 11s 496ms/step - loss: 1.3704 - accuracy: 0.4524 - val_loss: 1.2892 - val_accuracy: 0.4635\n",
      "Epoch 8/20\n",
      "21/21 [==============================] - 11s 508ms/step - loss: 1.3145 - accuracy: 0.4524 - val_loss: 1.0906 - val_accuracy: 0.5521\n",
      "Epoch 9/20\n",
      "21/21 [==============================] - 11s 522ms/step - loss: 1.2369 - accuracy: 0.5030 - val_loss: 1.2233 - val_accuracy: 0.5469\n",
      "Epoch 10/20\n",
      "21/21 [==============================] - 11s 517ms/step - loss: 1.2776 - accuracy: 0.4970 - val_loss: 1.1391 - val_accuracy: 0.5729\n",
      "Epoch 11/20\n",
      "21/21 [==============================] - 11s 505ms/step - loss: 1.2327 - accuracy: 0.4985 - val_loss: 1.3178 - val_accuracy: 0.4948\n",
      "Epoch 12/20\n",
      "21/21 [==============================] - 12s 571ms/step - loss: 1.2042 - accuracy: 0.5268 - val_loss: 1.2303 - val_accuracy: 0.5729\n",
      "Epoch 13/20\n",
      "21/21 [==============================] - 11s 527ms/step - loss: 1.1526 - accuracy: 0.5461 - val_loss: 1.1227 - val_accuracy: 0.5625\n",
      "Epoch 14/20\n",
      "21/21 [==============================] - 11s 516ms/step - loss: 1.1102 - accuracy: 0.5565 - val_loss: 1.1904 - val_accuracy: 0.5365\n",
      "Epoch 15/20\n",
      "21/21 [==============================] - 11s 527ms/step - loss: 1.0772 - accuracy: 0.5789 - val_loss: 1.0923 - val_accuracy: 0.5625\n",
      "Epoch 16/20\n",
      "21/21 [==============================] - 11s 515ms/step - loss: 1.0399 - accuracy: 0.5848 - val_loss: 1.0891 - val_accuracy: 0.6094\n",
      "Epoch 17/20\n",
      "21/21 [==============================] - 12s 538ms/step - loss: 0.9758 - accuracy: 0.6280 - val_loss: 1.0097 - val_accuracy: 0.6146\n",
      "Epoch 18/20\n",
      "21/21 [==============================] - 11s 525ms/step - loss: 0.9427 - accuracy: 0.6354 - val_loss: 1.0071 - val_accuracy: 0.5938\n",
      "Epoch 19/20\n",
      "21/21 [==============================] - 11s 523ms/step - loss: 0.8848 - accuracy: 0.6577 - val_loss: 1.0547 - val_accuracy: 0.6146\n",
      "Epoch 20/20\n",
      "21/21 [==============================] - 11s 532ms/step - loss: 0.8854 - accuracy: 0.6503 - val_loss: 0.9791 - val_accuracy: 0.6875\n"
     ]
    }
   ],
   "source": [
    "hist = model2.fit(train, epochs=20, validation_data=val, callbacks=[tensorboard_callback])"
   ]
  },
  {
   "cell_type": "code",
   "execution_count": null,
   "metadata": {},
   "outputs": [
    {
     "name": "stdout",
     "output_type": "stream",
     "text": [
      "Requirement already satisfied: pandas in /Users/abhilashhathwar/miniforge3/lib/python3.10/site-packages (2.0.0)\n",
      "Requirement already satisfied: python-dateutil>=2.8.2 in /Users/abhilashhathwar/miniforge3/lib/python3.10/site-packages (from pandas) (2.8.2)\n",
      "Requirement already satisfied: numpy>=1.21.0 in /Users/abhilashhathwar/miniforge3/lib/python3.10/site-packages (from pandas) (1.24.2)\n",
      "Requirement already satisfied: pytz>=2020.1 in /Users/abhilashhathwar/miniforge3/lib/python3.10/site-packages (from pandas) (2022.7.1)\n",
      "Requirement already satisfied: tzdata>=2022.1 in /Users/abhilashhathwar/miniforge3/lib/python3.10/site-packages (from pandas) (2023.3)\n",
      "Requirement already satisfied: six>=1.5 in /Users/abhilashhathwar/miniforge3/lib/python3.10/site-packages (from python-dateutil>=2.8.2->pandas) (1.16.0)\n"
     ]
    }
   ],
   "source": [
    "# import sys\n",
    "# !{sys.executable} -m pip install pandas"
   ]
  },
  {
   "cell_type": "code",
   "execution_count": 17,
   "metadata": {},
   "outputs": [],
   "source": [
    "import pandas as pd"
   ]
  },
  {
   "cell_type": "code",
   "execution_count": null,
   "metadata": {},
   "outputs": [
    {
     "name": "stdout",
     "output_type": "stream",
     "text": [
      "1/1 [==============================] - 0s 80ms/step\n",
      "1/1 [==============================] - 0s 26ms/step\n",
      "1/1 [==============================] - 0s 30ms/step\n",
      "77\n"
     ]
    }
   ],
   "source": [
    "\n",
    "\n",
    "\n",
    "    \n"
   ]
  },
  {
   "cell_type": "code",
   "execution_count": 18,
   "metadata": {
    "tags": []
   },
   "outputs": [
    {
     "name": "stderr",
     "output_type": "stream",
     "text": [
      "WARNING:absl:Found untraced functions such as _jit_compiled_convolution_op, _jit_compiled_convolution_op, _jit_compiled_convolution_op, _update_step_xla while saving (showing 4 of 4). These functions will not be directly callable after loading.\n"
     ]
    },
    {
     "name": "stdout",
     "output_type": "stream",
     "text": [
      "INFO:tensorflow:Assets written to: /Users/abhilashhathwar/Desktop/Desk/ERSA/backend/assets\n"
     ]
    },
    {
     "name": "stderr",
     "output_type": "stream",
     "text": [
      "INFO:tensorflow:Assets written to: /Users/abhilashhathwar/Desktop/Desk/ERSA/backend/assets\n"
     ]
    }
   ],
   "source": [
    "from tensorflow.keras.models import load_model\n",
    "model2.save('skin_disease_classifier.h5')\n",
    "tf.saved_model.save(model2,'/Users/abhilashhathwar/Desktop/Desk/ERSA/backend')"
   ]
  },
  {
   "cell_type": "code",
   "execution_count": 19,
   "metadata": {},
   "outputs": [],
   "source": [
    "# model_json = model2.to_json()\n",
    "# with open(\"model4.json\", \"w\") as json_file:\n",
    "#     json_file.write(model_json)\n",
    "# # serialize weights to HDF5\n"
   ]
  },
  {
   "cell_type": "code",
   "execution_count": 20,
   "metadata": {},
   "outputs": [
    {
     "name": "stdout",
     "output_type": "stream",
     "text": [
      "1/1 [==============================] - 0s 78ms/step\n"
     ]
    }
   ],
   "source": [
    "# #from keras import model_from_json \n",
    "\n",
    "# # opening and store file in a variable\n",
    "\n",
    "# json_file = open('model4.json','r')\n",
    "# loaded_model_json = json_file.read()\n",
    "# json_file.close()\n",
    "\n",
    "# # use Keras model_from_json to make a loaded model\n",
    "\n",
    "# loaded_model = tf.keras.models.model_from_json(loaded_model_json)\n",
    "\n",
    "# # load weights into new model\n",
    "\n",
    "# loaded_model.load_weights(\"softstoryclassifier.h5\")\n",
    "# print(\"Loaded Model from disk\")\n",
    "\n",
    "# # compile and evaluate loaded model\n",
    "\n",
    "# loaded_model.compile(loss=tf.losses.BinaryCrossentropy(),optimizer='adam',metrics=['accuracy'])\n",
    "\n",
    "\n",
    "model = tf.keras.models.load_model('skin_disease_classifier.h5')\n",
    "img='/Users/abhilashhathwar/Desktop/Desk/ERSA/backend/train/Melanoma/atypical-nevi-8.jpg'\n",
    "new_image = cv2.imread(img)\n",
    "imResized = cv2.resize(new_image,(64,64))\n",
    "      #img = cv2.imread(, cv2.IMREAD_COLOR)\n",
    "      # print(imResized)\n",
    "imResized = imResized/255.0\n",
    "# print(imResized.shape)\n",
    "      #res = cv2.resize(img, dsize=(255, 255))\n",
    "      #imResized = imResized.reshape(256,256,3)\n",
    "imResized=imResized[None,:,:,:]\n",
    "out = model.predict(imResized)\n"
   ]
  },
  {
   "cell_type": "code",
   "execution_count": 21,
   "metadata": {},
   "outputs": [],
   "source": [
    "import pandas as pd"
   ]
  },
  {
   "cell_type": "code",
   "execution_count": 22,
   "metadata": {},
   "outputs": [
    {
     "name": "stdout",
     "output_type": "stream",
     "text": [
      "Cellulitis_Impetigo\n"
     ]
    }
   ],
   "source": [
    "s=pd.Series(out[0]).idxmax()\n",
    "diseases=['Acne_and_Rosacea','Actinic_Keratosis_Basal_Cell_Carcinoma','Atopic_Dermatitis','Bullous_Disease','Cellulitis_Impetigo',\n",
    "          'Eczema','Exanthems_and_Drug_Eruptions','Alopecia','STDS','Pigmentation','Lupus','Melanoma','Nail_Fungus','Contact_Dermatitis',\n",
    "          'Psoriasis','Lyme_Disease','Seborrheic_Keratoses','Systemic_Disease','Ringworm','Urticaria_Hives','Vascular_Tumors','Vasculitis',\n",
    "          'Warts_Molluscum']\n",
    "print(diseases[s])"
   ]
  },
  {
   "cell_type": "code",
   "execution_count": 23,
   "metadata": {},
   "outputs": [
    {
     "name": "stderr",
     "output_type": "stream",
     "text": [
      "WARNING:absl:Found untraced functions such as _jit_compiled_convolution_op, _jit_compiled_convolution_op, _jit_compiled_convolution_op, _update_step_xla while saving (showing 4 of 4). These functions will not be directly callable after loading.\n"
     ]
    },
    {
     "name": "stdout",
     "output_type": "stream",
     "text": [
      "INFO:tensorflow:Assets written to: /var/folders/mc/0pln0cqn53s2r30bcb9p9zbc0000gn/T/tmp2yabn8w9/assets\n"
     ]
    },
    {
     "name": "stderr",
     "output_type": "stream",
     "text": [
      "INFO:tensorflow:Assets written to: /var/folders/mc/0pln0cqn53s2r30bcb9p9zbc0000gn/T/tmp2yabn8w9/assets\n",
      "2023-04-06 18:11:06.756844: W tensorflow/compiler/mlir/lite/python/tf_tfl_flatbuffer_helpers.cc:362] Ignored output_format.\n",
      "2023-04-06 18:11:06.756996: W tensorflow/compiler/mlir/lite/python/tf_tfl_flatbuffer_helpers.cc:365] Ignored drop_control_dependency.\n",
      "2023-04-06 18:11:06.758289: I tensorflow/cc/saved_model/reader.cc:45] Reading SavedModel from: /var/folders/mc/0pln0cqn53s2r30bcb9p9zbc0000gn/T/tmp2yabn8w9\n",
      "2023-04-06 18:11:06.759845: I tensorflow/cc/saved_model/reader.cc:89] Reading meta graph with tags { serve }\n",
      "2023-04-06 18:11:06.759855: I tensorflow/cc/saved_model/reader.cc:130] Reading SavedModel debug info (if present) from: /var/folders/mc/0pln0cqn53s2r30bcb9p9zbc0000gn/T/tmp2yabn8w9\n",
      "2023-04-06 18:11:06.764888: I tensorflow/compiler/mlir/mlir_graph_optimization_pass.cc:357] MLIR V1 optimization pass is not enabled\n",
      "2023-04-06 18:11:06.766706: I tensorflow/cc/saved_model/loader.cc:229] Restoring SavedModel bundle.\n",
      "2023-04-06 18:11:06.936939: I tensorflow/cc/saved_model/loader.cc:213] Running initialization op on SavedModel bundle at path: /var/folders/mc/0pln0cqn53s2r30bcb9p9zbc0000gn/T/tmp2yabn8w9\n",
      "2023-04-06 18:11:06.946463: I tensorflow/cc/saved_model/loader.cc:305] SavedModel load for tags { serve }; Status: success: OK. Took 187623 microseconds.\n",
      "2023-04-06 18:11:06.997052: I tensorflow/compiler/mlir/tensorflow/utils/dump_mlir_util.cc:268] disabling MLIR crash reproducer, set env var `MLIR_CRASH_REPRODUCER_DIRECTORY` to enable.\n"
     ]
    },
    {
     "data": {
      "text/plain": [
       "35420424"
      ]
     },
     "execution_count": 23,
     "metadata": {},
     "output_type": "execute_result"
    }
   ],
   "source": [
    "model=tf.keras.models.load_model('skin_disease_classifier.h5')\n",
    "tflite_converter = tf.lite.TFLiteConverter.from_keras_model(model)\n",
    "\n",
    "#convert\n",
    "tflite_model = tflite_converter.convert()\n",
    "open(\"tf_lite_model.tflite\", \"wb\").write(tflite_model)"
   ]
  },
  {
   "cell_type": "code",
   "execution_count": 24,
   "metadata": {},
   "outputs": [
    {
     "name": "stderr",
     "output_type": "stream",
     "text": [
      "2023-04-06 18:11:09.776258: W tensorflow/compiler/mlir/lite/python/tf_tfl_flatbuffer_helpers.cc:362] Ignored output_format.\n",
      "2023-04-06 18:11:09.776272: W tensorflow/compiler/mlir/lite/python/tf_tfl_flatbuffer_helpers.cc:365] Ignored drop_control_dependency.\n",
      "2023-04-06 18:11:09.776365: I tensorflow/cc/saved_model/reader.cc:45] Reading SavedModel from: /Users/abhilashhathwar/Desktop/Desk/ERSA/backend/\n",
      "2023-04-06 18:11:09.777593: I tensorflow/cc/saved_model/reader.cc:89] Reading meta graph with tags { serve }\n",
      "2023-04-06 18:11:09.777598: I tensorflow/cc/saved_model/reader.cc:130] Reading SavedModel debug info (if present) from: /Users/abhilashhathwar/Desktop/Desk/ERSA/backend/\n",
      "2023-04-06 18:11:09.780975: I tensorflow/cc/saved_model/loader.cc:229] Restoring SavedModel bundle.\n",
      "2023-04-06 18:11:09.954967: I tensorflow/cc/saved_model/loader.cc:213] Running initialization op on SavedModel bundle at path: /Users/abhilashhathwar/Desktop/Desk/ERSA/backend/\n",
      "2023-04-06 18:11:09.964452: I tensorflow/cc/saved_model/loader.cc:305] SavedModel load for tags { serve }; Status: success: OK. Took 188083 microseconds.\n"
     ]
    }
   ],
   "source": [
    "\n",
    "# Convert the model\n",
    "converter = tf.lite.TFLiteConverter.from_saved_model('/Users/abhilashhathwar/Desktop/Desk/ERSA/backend/') # path to the SavedModel directory\n",
    "tflite_model = converter.convert()\n",
    "\n",
    "# Save the model.\n",
    "with open('model_saved.tflite', 'wb') as f:\n",
    "  f.write(tflite_model)"
   ]
  }
 ],
 "metadata": {
  "kernelspec": {
   "display_name": "Python 3 (ipykernel)",
   "language": "python",
   "name": "python3"
  },
  "language_info": {
   "codemirror_mode": {
    "name": "ipython",
    "version": 3
   },
   "file_extension": ".py",
   "mimetype": "text/x-python",
   "name": "python",
   "nbconvert_exporter": "python",
   "pygments_lexer": "ipython3",
   "version": "3.10.9"
  }
 },
 "nbformat": 4,
 "nbformat_minor": 4
}
